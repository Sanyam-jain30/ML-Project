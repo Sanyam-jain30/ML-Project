{
 "cells": [
  {
   "cell_type": "code",
   "execution_count": 1,
   "id": "08c913b3",
   "metadata": {},
   "outputs": [],
   "source": [
    "# Importing libraries\n",
    "import numpy as np\n",
    "import pandas as pd\n",
    "import matplotlib.pyplot as plt"
   ]
  },
  {
   "cell_type": "markdown",
   "id": "3aed5a5c",
   "metadata": {},
   "source": [
    "EDA Part"
   ]
  },
  {
   "cell_type": "code",
   "execution_count": 2,
   "id": "5d41b57e",
   "metadata": {},
   "outputs": [],
   "source": [
    "#Importing dataset\n",
    "dataset = pd.read_csv(\"Foreign_Exchange_Rates.csv\")"
   ]
  },
  {
   "cell_type": "code",
   "execution_count": 3,
   "id": "9547884e",
   "metadata": {},
   "outputs": [
    {
     "data": {
      "text/html": [
       "<div>\n",
       "<style scoped>\n",
       "    .dataframe tbody tr th:only-of-type {\n",
       "        vertical-align: middle;\n",
       "    }\n",
       "\n",
       "    .dataframe tbody tr th {\n",
       "        vertical-align: top;\n",
       "    }\n",
       "\n",
       "    .dataframe thead th {\n",
       "        text-align: right;\n",
       "    }\n",
       "</style>\n",
       "<table border=\"1\" class=\"dataframe\">\n",
       "  <thead>\n",
       "    <tr style=\"text-align: right;\">\n",
       "      <th></th>\n",
       "      <th>Unnamed: 0</th>\n",
       "      <th>Time Serie</th>\n",
       "      <th>AUSTRALIA - AUSTRALIAN DOLLAR/US$</th>\n",
       "      <th>EURO AREA - EURO/US$</th>\n",
       "      <th>NEW ZEALAND - NEW ZELAND DOLLAR/US$</th>\n",
       "      <th>UNITED KINGDOM - UNITED KINGDOM POUND/US$</th>\n",
       "      <th>BRAZIL - REAL/US$</th>\n",
       "      <th>CANADA - CANADIAN DOLLAR/US$</th>\n",
       "      <th>CHINA - YUAN/US$</th>\n",
       "      <th>HONG KONG - HONG KONG DOLLAR/US$</th>\n",
       "      <th>...</th>\n",
       "      <th>SINGAPORE - SINGAPORE DOLLAR/US$</th>\n",
       "      <th>DENMARK - DANISH KRONE/US$</th>\n",
       "      <th>JAPAN - YEN/US$</th>\n",
       "      <th>MALAYSIA - RINGGIT/US$</th>\n",
       "      <th>NORWAY - NORWEGIAN KRONE/US$</th>\n",
       "      <th>SWEDEN - KRONA/US$</th>\n",
       "      <th>SRI LANKA - SRI LANKAN RUPEE/US$</th>\n",
       "      <th>SWITZERLAND - FRANC/US$</th>\n",
       "      <th>TAIWAN - NEW TAIWAN DOLLAR/US$</th>\n",
       "      <th>THAILAND - BAHT/US$</th>\n",
       "    </tr>\n",
       "  </thead>\n",
       "  <tbody>\n",
       "    <tr>\n",
       "      <th>0</th>\n",
       "      <td>0</td>\n",
       "      <td>2000-01-03</td>\n",
       "      <td>1.5172</td>\n",
       "      <td>0.9847</td>\n",
       "      <td>1.9033</td>\n",
       "      <td>0.6146</td>\n",
       "      <td>1.805</td>\n",
       "      <td>1.4465</td>\n",
       "      <td>8.2798</td>\n",
       "      <td>7.7765</td>\n",
       "      <td>...</td>\n",
       "      <td>1.6563</td>\n",
       "      <td>7.329</td>\n",
       "      <td>101.7</td>\n",
       "      <td>3.8</td>\n",
       "      <td>7.964</td>\n",
       "      <td>8.443</td>\n",
       "      <td>72.3</td>\n",
       "      <td>1.5808</td>\n",
       "      <td>31.38</td>\n",
       "      <td>36.97</td>\n",
       "    </tr>\n",
       "    <tr>\n",
       "      <th>1</th>\n",
       "      <td>1</td>\n",
       "      <td>2000-01-04</td>\n",
       "      <td>1.5239</td>\n",
       "      <td>0.97</td>\n",
       "      <td>1.9238</td>\n",
       "      <td>0.6109</td>\n",
       "      <td>1.8405</td>\n",
       "      <td>1.4518</td>\n",
       "      <td>8.2799</td>\n",
       "      <td>7.7775</td>\n",
       "      <td>...</td>\n",
       "      <td>1.6535</td>\n",
       "      <td>7.218</td>\n",
       "      <td>103.09</td>\n",
       "      <td>3.8</td>\n",
       "      <td>7.934</td>\n",
       "      <td>8.36</td>\n",
       "      <td>72.65</td>\n",
       "      <td>1.5565</td>\n",
       "      <td>30.6</td>\n",
       "      <td>37.13</td>\n",
       "    </tr>\n",
       "    <tr>\n",
       "      <th>2</th>\n",
       "      <td>2</td>\n",
       "      <td>2000-01-05</td>\n",
       "      <td>1.5267</td>\n",
       "      <td>0.9676</td>\n",
       "      <td>1.9339</td>\n",
       "      <td>0.6092</td>\n",
       "      <td>1.856</td>\n",
       "      <td>1.4518</td>\n",
       "      <td>8.2798</td>\n",
       "      <td>7.778</td>\n",
       "      <td>...</td>\n",
       "      <td>1.656</td>\n",
       "      <td>7.208</td>\n",
       "      <td>103.77</td>\n",
       "      <td>3.8</td>\n",
       "      <td>7.935</td>\n",
       "      <td>8.353</td>\n",
       "      <td>72.95</td>\n",
       "      <td>1.5526</td>\n",
       "      <td>30.8</td>\n",
       "      <td>37.1</td>\n",
       "    </tr>\n",
       "    <tr>\n",
       "      <th>3</th>\n",
       "      <td>3</td>\n",
       "      <td>2000-01-06</td>\n",
       "      <td>1.5291</td>\n",
       "      <td>0.9686</td>\n",
       "      <td>1.9436</td>\n",
       "      <td>0.607</td>\n",
       "      <td>1.84</td>\n",
       "      <td>1.4571</td>\n",
       "      <td>8.2797</td>\n",
       "      <td>7.7785</td>\n",
       "      <td>...</td>\n",
       "      <td>1.6655</td>\n",
       "      <td>7.2125</td>\n",
       "      <td>105.19</td>\n",
       "      <td>3.8</td>\n",
       "      <td>7.94</td>\n",
       "      <td>8.3675</td>\n",
       "      <td>72.95</td>\n",
       "      <td>1.554</td>\n",
       "      <td>31.75</td>\n",
       "      <td>37.62</td>\n",
       "    </tr>\n",
       "    <tr>\n",
       "      <th>4</th>\n",
       "      <td>4</td>\n",
       "      <td>2000-01-07</td>\n",
       "      <td>1.5272</td>\n",
       "      <td>0.9714</td>\n",
       "      <td>1.938</td>\n",
       "      <td>0.6104</td>\n",
       "      <td>1.831</td>\n",
       "      <td>1.4505</td>\n",
       "      <td>8.2794</td>\n",
       "      <td>7.7783</td>\n",
       "      <td>...</td>\n",
       "      <td>1.6625</td>\n",
       "      <td>7.2285</td>\n",
       "      <td>105.17</td>\n",
       "      <td>3.8</td>\n",
       "      <td>7.966</td>\n",
       "      <td>8.415</td>\n",
       "      <td>73.15</td>\n",
       "      <td>1.5623</td>\n",
       "      <td>30.85</td>\n",
       "      <td>37.3</td>\n",
       "    </tr>\n",
       "  </tbody>\n",
       "</table>\n",
       "<p>5 rows × 24 columns</p>\n",
       "</div>"
      ],
      "text/plain": [
       "   Unnamed: 0  Time Serie AUSTRALIA - AUSTRALIAN DOLLAR/US$  \\\n",
       "0           0  2000-01-03                            1.5172   \n",
       "1           1  2000-01-04                            1.5239   \n",
       "2           2  2000-01-05                            1.5267   \n",
       "3           3  2000-01-06                            1.5291   \n",
       "4           4  2000-01-07                            1.5272   \n",
       "\n",
       "  EURO AREA - EURO/US$ NEW ZEALAND - NEW ZELAND DOLLAR/US$  \\\n",
       "0               0.9847                              1.9033   \n",
       "1                 0.97                              1.9238   \n",
       "2               0.9676                              1.9339   \n",
       "3               0.9686                              1.9436   \n",
       "4               0.9714                               1.938   \n",
       "\n",
       "  UNITED KINGDOM - UNITED KINGDOM POUND/US$ BRAZIL - REAL/US$  \\\n",
       "0                                    0.6146             1.805   \n",
       "1                                    0.6109            1.8405   \n",
       "2                                    0.6092             1.856   \n",
       "3                                     0.607              1.84   \n",
       "4                                    0.6104             1.831   \n",
       "\n",
       "  CANADA - CANADIAN DOLLAR/US$ CHINA - YUAN/US$  \\\n",
       "0                       1.4465           8.2798   \n",
       "1                       1.4518           8.2799   \n",
       "2                       1.4518           8.2798   \n",
       "3                       1.4571           8.2797   \n",
       "4                       1.4505           8.2794   \n",
       "\n",
       "  HONG KONG - HONG KONG DOLLAR/US$  ... SINGAPORE - SINGAPORE DOLLAR/US$  \\\n",
       "0                           7.7765  ...                           1.6563   \n",
       "1                           7.7775  ...                           1.6535   \n",
       "2                            7.778  ...                            1.656   \n",
       "3                           7.7785  ...                           1.6655   \n",
       "4                           7.7783  ...                           1.6625   \n",
       "\n",
       "  DENMARK - DANISH KRONE/US$ JAPAN - YEN/US$ MALAYSIA - RINGGIT/US$  \\\n",
       "0                      7.329           101.7                    3.8   \n",
       "1                      7.218          103.09                    3.8   \n",
       "2                      7.208          103.77                    3.8   \n",
       "3                     7.2125          105.19                    3.8   \n",
       "4                     7.2285          105.17                    3.8   \n",
       "\n",
       "  NORWAY - NORWEGIAN KRONE/US$ SWEDEN - KRONA/US$  \\\n",
       "0                        7.964              8.443   \n",
       "1                        7.934               8.36   \n",
       "2                        7.935              8.353   \n",
       "3                         7.94             8.3675   \n",
       "4                        7.966              8.415   \n",
       "\n",
       "  SRI LANKA - SRI LANKAN RUPEE/US$ SWITZERLAND - FRANC/US$  \\\n",
       "0                             72.3                  1.5808   \n",
       "1                            72.65                  1.5565   \n",
       "2                            72.95                  1.5526   \n",
       "3                            72.95                   1.554   \n",
       "4                            73.15                  1.5623   \n",
       "\n",
       "  TAIWAN - NEW TAIWAN DOLLAR/US$ THAILAND - BAHT/US$  \n",
       "0                          31.38               36.97  \n",
       "1                           30.6               37.13  \n",
       "2                           30.8                37.1  \n",
       "3                          31.75               37.62  \n",
       "4                          30.85                37.3  \n",
       "\n",
       "[5 rows x 24 columns]"
      ]
     },
     "execution_count": 3,
     "metadata": {},
     "output_type": "execute_result"
    }
   ],
   "source": [
    "dataset.head()"
   ]
  },
  {
   "cell_type": "code",
   "execution_count": 4,
   "id": "281ac2f4",
   "metadata": {},
   "outputs": [
    {
     "data": {
      "text/plain": [
       "Index(['Unnamed: 0', 'Time Serie', 'AUSTRALIA - AUSTRALIAN DOLLAR/US$',\n",
       "       'EURO AREA - EURO/US$', 'NEW ZEALAND - NEW ZELAND DOLLAR/US$',\n",
       "       'UNITED KINGDOM - UNITED KINGDOM POUND/US$', 'BRAZIL - REAL/US$',\n",
       "       'CANADA - CANADIAN DOLLAR/US$', 'CHINA - YUAN/US$',\n",
       "       'HONG KONG - HONG KONG DOLLAR/US$', 'INDIA - INDIAN RUPEE/US$',\n",
       "       'KOREA - WON/US$', 'MEXICO - MEXICAN PESO/US$',\n",
       "       'SOUTH AFRICA - RAND/US$', 'SINGAPORE - SINGAPORE DOLLAR/US$',\n",
       "       'DENMARK - DANISH KRONE/US$', 'JAPAN - YEN/US$',\n",
       "       'MALAYSIA - RINGGIT/US$', 'NORWAY - NORWEGIAN KRONE/US$',\n",
       "       'SWEDEN - KRONA/US$', 'SRI LANKA - SRI LANKAN RUPEE/US$',\n",
       "       'SWITZERLAND - FRANC/US$', 'TAIWAN - NEW TAIWAN DOLLAR/US$',\n",
       "       'THAILAND - BAHT/US$'],\n",
       "      dtype='object')"
      ]
     },
     "execution_count": 4,
     "metadata": {},
     "output_type": "execute_result"
    }
   ],
   "source": [
    "dataset.columns"
   ]
  },
  {
   "cell_type": "code",
   "execution_count": 5,
   "id": "96a46f33",
   "metadata": {},
   "outputs": [],
   "source": [
    "# We can drop unamed column\n",
    "dataset = dataset.drop(columns=dataset.columns[0])"
   ]
  },
  {
   "cell_type": "code",
   "execution_count": 6,
   "id": "9f0d056a",
   "metadata": {},
   "outputs": [
    {
     "data": {
      "text/html": [
       "<div>\n",
       "<style scoped>\n",
       "    .dataframe tbody tr th:only-of-type {\n",
       "        vertical-align: middle;\n",
       "    }\n",
       "\n",
       "    .dataframe tbody tr th {\n",
       "        vertical-align: top;\n",
       "    }\n",
       "\n",
       "    .dataframe thead th {\n",
       "        text-align: right;\n",
       "    }\n",
       "</style>\n",
       "<table border=\"1\" class=\"dataframe\">\n",
       "  <thead>\n",
       "    <tr style=\"text-align: right;\">\n",
       "      <th></th>\n",
       "      <th>Time Serie</th>\n",
       "      <th>AUSTRALIA - AUSTRALIAN DOLLAR/US$</th>\n",
       "      <th>EURO AREA - EURO/US$</th>\n",
       "      <th>NEW ZEALAND - NEW ZELAND DOLLAR/US$</th>\n",
       "      <th>UNITED KINGDOM - UNITED KINGDOM POUND/US$</th>\n",
       "      <th>BRAZIL - REAL/US$</th>\n",
       "      <th>CANADA - CANADIAN DOLLAR/US$</th>\n",
       "      <th>CHINA - YUAN/US$</th>\n",
       "      <th>HONG KONG - HONG KONG DOLLAR/US$</th>\n",
       "      <th>INDIA - INDIAN RUPEE/US$</th>\n",
       "      <th>...</th>\n",
       "      <th>SINGAPORE - SINGAPORE DOLLAR/US$</th>\n",
       "      <th>DENMARK - DANISH KRONE/US$</th>\n",
       "      <th>JAPAN - YEN/US$</th>\n",
       "      <th>MALAYSIA - RINGGIT/US$</th>\n",
       "      <th>NORWAY - NORWEGIAN KRONE/US$</th>\n",
       "      <th>SWEDEN - KRONA/US$</th>\n",
       "      <th>SRI LANKA - SRI LANKAN RUPEE/US$</th>\n",
       "      <th>SWITZERLAND - FRANC/US$</th>\n",
       "      <th>TAIWAN - NEW TAIWAN DOLLAR/US$</th>\n",
       "      <th>THAILAND - BAHT/US$</th>\n",
       "    </tr>\n",
       "  </thead>\n",
       "  <tbody>\n",
       "    <tr>\n",
       "      <th>0</th>\n",
       "      <td>2000-01-03</td>\n",
       "      <td>1.5172</td>\n",
       "      <td>0.9847</td>\n",
       "      <td>1.9033</td>\n",
       "      <td>0.6146</td>\n",
       "      <td>1.805</td>\n",
       "      <td>1.4465</td>\n",
       "      <td>8.2798</td>\n",
       "      <td>7.7765</td>\n",
       "      <td>43.55</td>\n",
       "      <td>...</td>\n",
       "      <td>1.6563</td>\n",
       "      <td>7.329</td>\n",
       "      <td>101.7</td>\n",
       "      <td>3.8</td>\n",
       "      <td>7.964</td>\n",
       "      <td>8.443</td>\n",
       "      <td>72.3</td>\n",
       "      <td>1.5808</td>\n",
       "      <td>31.38</td>\n",
       "      <td>36.97</td>\n",
       "    </tr>\n",
       "    <tr>\n",
       "      <th>1</th>\n",
       "      <td>2000-01-04</td>\n",
       "      <td>1.5239</td>\n",
       "      <td>0.97</td>\n",
       "      <td>1.9238</td>\n",
       "      <td>0.6109</td>\n",
       "      <td>1.8405</td>\n",
       "      <td>1.4518</td>\n",
       "      <td>8.2799</td>\n",
       "      <td>7.7775</td>\n",
       "      <td>43.55</td>\n",
       "      <td>...</td>\n",
       "      <td>1.6535</td>\n",
       "      <td>7.218</td>\n",
       "      <td>103.09</td>\n",
       "      <td>3.8</td>\n",
       "      <td>7.934</td>\n",
       "      <td>8.36</td>\n",
       "      <td>72.65</td>\n",
       "      <td>1.5565</td>\n",
       "      <td>30.6</td>\n",
       "      <td>37.13</td>\n",
       "    </tr>\n",
       "    <tr>\n",
       "      <th>2</th>\n",
       "      <td>2000-01-05</td>\n",
       "      <td>1.5267</td>\n",
       "      <td>0.9676</td>\n",
       "      <td>1.9339</td>\n",
       "      <td>0.6092</td>\n",
       "      <td>1.856</td>\n",
       "      <td>1.4518</td>\n",
       "      <td>8.2798</td>\n",
       "      <td>7.778</td>\n",
       "      <td>43.55</td>\n",
       "      <td>...</td>\n",
       "      <td>1.656</td>\n",
       "      <td>7.208</td>\n",
       "      <td>103.77</td>\n",
       "      <td>3.8</td>\n",
       "      <td>7.935</td>\n",
       "      <td>8.353</td>\n",
       "      <td>72.95</td>\n",
       "      <td>1.5526</td>\n",
       "      <td>30.8</td>\n",
       "      <td>37.1</td>\n",
       "    </tr>\n",
       "    <tr>\n",
       "      <th>3</th>\n",
       "      <td>2000-01-06</td>\n",
       "      <td>1.5291</td>\n",
       "      <td>0.9686</td>\n",
       "      <td>1.9436</td>\n",
       "      <td>0.607</td>\n",
       "      <td>1.84</td>\n",
       "      <td>1.4571</td>\n",
       "      <td>8.2797</td>\n",
       "      <td>7.7785</td>\n",
       "      <td>43.55</td>\n",
       "      <td>...</td>\n",
       "      <td>1.6655</td>\n",
       "      <td>7.2125</td>\n",
       "      <td>105.19</td>\n",
       "      <td>3.8</td>\n",
       "      <td>7.94</td>\n",
       "      <td>8.3675</td>\n",
       "      <td>72.95</td>\n",
       "      <td>1.554</td>\n",
       "      <td>31.75</td>\n",
       "      <td>37.62</td>\n",
       "    </tr>\n",
       "    <tr>\n",
       "      <th>4</th>\n",
       "      <td>2000-01-07</td>\n",
       "      <td>1.5272</td>\n",
       "      <td>0.9714</td>\n",
       "      <td>1.938</td>\n",
       "      <td>0.6104</td>\n",
       "      <td>1.831</td>\n",
       "      <td>1.4505</td>\n",
       "      <td>8.2794</td>\n",
       "      <td>7.7783</td>\n",
       "      <td>43.55</td>\n",
       "      <td>...</td>\n",
       "      <td>1.6625</td>\n",
       "      <td>7.2285</td>\n",
       "      <td>105.17</td>\n",
       "      <td>3.8</td>\n",
       "      <td>7.966</td>\n",
       "      <td>8.415</td>\n",
       "      <td>73.15</td>\n",
       "      <td>1.5623</td>\n",
       "      <td>30.85</td>\n",
       "      <td>37.3</td>\n",
       "    </tr>\n",
       "  </tbody>\n",
       "</table>\n",
       "<p>5 rows × 23 columns</p>\n",
       "</div>"
      ],
      "text/plain": [
       "   Time Serie AUSTRALIA - AUSTRALIAN DOLLAR/US$ EURO AREA - EURO/US$  \\\n",
       "0  2000-01-03                            1.5172               0.9847   \n",
       "1  2000-01-04                            1.5239                 0.97   \n",
       "2  2000-01-05                            1.5267               0.9676   \n",
       "3  2000-01-06                            1.5291               0.9686   \n",
       "4  2000-01-07                            1.5272               0.9714   \n",
       "\n",
       "  NEW ZEALAND - NEW ZELAND DOLLAR/US$  \\\n",
       "0                              1.9033   \n",
       "1                              1.9238   \n",
       "2                              1.9339   \n",
       "3                              1.9436   \n",
       "4                               1.938   \n",
       "\n",
       "  UNITED KINGDOM - UNITED KINGDOM POUND/US$ BRAZIL - REAL/US$  \\\n",
       "0                                    0.6146             1.805   \n",
       "1                                    0.6109            1.8405   \n",
       "2                                    0.6092             1.856   \n",
       "3                                     0.607              1.84   \n",
       "4                                    0.6104             1.831   \n",
       "\n",
       "  CANADA - CANADIAN DOLLAR/US$ CHINA - YUAN/US$  \\\n",
       "0                       1.4465           8.2798   \n",
       "1                       1.4518           8.2799   \n",
       "2                       1.4518           8.2798   \n",
       "3                       1.4571           8.2797   \n",
       "4                       1.4505           8.2794   \n",
       "\n",
       "  HONG KONG - HONG KONG DOLLAR/US$ INDIA - INDIAN RUPEE/US$  ...  \\\n",
       "0                           7.7765                    43.55  ...   \n",
       "1                           7.7775                    43.55  ...   \n",
       "2                            7.778                    43.55  ...   \n",
       "3                           7.7785                    43.55  ...   \n",
       "4                           7.7783                    43.55  ...   \n",
       "\n",
       "  SINGAPORE - SINGAPORE DOLLAR/US$ DENMARK - DANISH KRONE/US$ JAPAN - YEN/US$  \\\n",
       "0                           1.6563                      7.329           101.7   \n",
       "1                           1.6535                      7.218          103.09   \n",
       "2                            1.656                      7.208          103.77   \n",
       "3                           1.6655                     7.2125          105.19   \n",
       "4                           1.6625                     7.2285          105.17   \n",
       "\n",
       "  MALAYSIA - RINGGIT/US$ NORWAY - NORWEGIAN KRONE/US$ SWEDEN - KRONA/US$  \\\n",
       "0                    3.8                        7.964              8.443   \n",
       "1                    3.8                        7.934               8.36   \n",
       "2                    3.8                        7.935              8.353   \n",
       "3                    3.8                         7.94             8.3675   \n",
       "4                    3.8                        7.966              8.415   \n",
       "\n",
       "  SRI LANKA - SRI LANKAN RUPEE/US$ SWITZERLAND - FRANC/US$  \\\n",
       "0                             72.3                  1.5808   \n",
       "1                            72.65                  1.5565   \n",
       "2                            72.95                  1.5526   \n",
       "3                            72.95                   1.554   \n",
       "4                            73.15                  1.5623   \n",
       "\n",
       "  TAIWAN - NEW TAIWAN DOLLAR/US$ THAILAND - BAHT/US$  \n",
       "0                          31.38               36.97  \n",
       "1                           30.6               37.13  \n",
       "2                           30.8                37.1  \n",
       "3                          31.75               37.62  \n",
       "4                          30.85                37.3  \n",
       "\n",
       "[5 rows x 23 columns]"
      ]
     },
     "execution_count": 6,
     "metadata": {},
     "output_type": "execute_result"
    }
   ],
   "source": [
    "# Lets check out the new dataset\n",
    "dataset.head()"
   ]
  },
  {
   "cell_type": "code",
   "execution_count": 7,
   "id": "0e12a341",
   "metadata": {},
   "outputs": [],
   "source": [
    "# Lets rename the columns based on shorter form of currency name\n",
    "\n",
    "new_col_names = ['Time Series', 'aud', 'eur', 'nzd', 'gbp', 'brl', 'cnd', 'cny', 'hkd', 'idr', 'krw', 'mxn', 'zar', 'sgd', 'dkk', 'jpy', 'myr', 'nok', 'sek', 'lkr', 'chf', 'twd', 'thb']\n",
    "dataset.columns = new_col_names\n",
    "dataset.columns = map(str.upper, dataset.columns)\n",
    "dataset.rename(columns=lambda x:x+'_USD', inplace=True)\n",
    "dataset.rename(columns={'TIME SERIES_USD':'Time Series'}, inplace=True)"
   ]
  },
  {
   "cell_type": "code",
   "execution_count": 8,
   "id": "935776d4",
   "metadata": {},
   "outputs": [
    {
     "data": {
      "text/plain": [
       "Index(['Time Series', 'AUD_USD', 'EUR_USD', 'NZD_USD', 'GBP_USD', 'BRL_USD',\n",
       "       'CND_USD', 'CNY_USD', 'HKD_USD', 'IDR_USD', 'KRW_USD', 'MXN_USD',\n",
       "       'ZAR_USD', 'SGD_USD', 'DKK_USD', 'JPY_USD', 'MYR_USD', 'NOK_USD',\n",
       "       'SEK_USD', 'LKR_USD', 'CHF_USD', 'TWD_USD', 'THB_USD'],\n",
       "      dtype='object')"
      ]
     },
     "execution_count": 8,
     "metadata": {},
     "output_type": "execute_result"
    }
   ],
   "source": [
    "# Lets see the names of the columns in our dataset\n",
    "dataset.columns"
   ]
  },
  {
   "cell_type": "code",
   "execution_count": 9,
   "id": "cf001f37",
   "metadata": {},
   "outputs": [
    {
     "data": {
      "text/plain": [
       "0"
      ]
     },
     "execution_count": 9,
     "metadata": {},
     "output_type": "execute_result"
    }
   ],
   "source": [
    "#Find the duplicates\n",
    "dataset.duplicated().sum()"
   ]
  },
  {
   "cell_type": "code",
   "execution_count": 10,
   "id": "151fe6e2",
   "metadata": {},
   "outputs": [
    {
     "data": {
      "text/plain": [
       "False"
      ]
     },
     "execution_count": 10,
     "metadata": {},
     "output_type": "execute_result"
    }
   ],
   "source": [
    "# Checking for any null values in dataset\n",
    "dataset.isnull().values.any()"
   ]
  },
  {
   "cell_type": "code",
   "execution_count": 11,
   "id": "8c23a535",
   "metadata": {},
   "outputs": [],
   "source": [
    "# In this dataset the nulls are named as ND\n",
    "# We have to replace them to null\n",
    "dataset = dataset.replace('ND', np.nan)"
   ]
  },
  {
   "cell_type": "code",
   "execution_count": 12,
   "id": "9de2abb9",
   "metadata": {},
   "outputs": [
    {
     "data": {
      "text/plain": [
       "True"
      ]
     },
     "execution_count": 12,
     "metadata": {},
     "output_type": "execute_result"
    }
   ],
   "source": [
    "# Checking for any null values in dataset\n",
    "dataset.isnull().values.any()"
   ]
  },
  {
   "cell_type": "code",
   "execution_count": 13,
   "id": "e566724a",
   "metadata": {},
   "outputs": [
    {
     "data": {
      "text/plain": [
       "False"
      ]
     },
     "execution_count": 13,
     "metadata": {},
     "output_type": "execute_result"
    }
   ],
   "source": [
    "# Now we will get rid of this null values\n",
    "dataset = dataset.dropna().reset_index(drop=True)\n",
    "dataset.isnull().values.any()"
   ]
  },
  {
   "cell_type": "markdown",
   "id": "d2e228c2",
   "metadata": {},
   "source": [
    "Data Visualization"
   ]
  },
  {
   "cell_type": "code",
   "execution_count": 14,
   "id": "b0b9e294",
   "metadata": {},
   "outputs": [
    {
     "data": {
      "text/plain": [
       "Time Series    object\n",
       "AUD_USD        object\n",
       "EUR_USD        object\n",
       "NZD_USD        object\n",
       "GBP_USD        object\n",
       "BRL_USD        object\n",
       "CND_USD        object\n",
       "CNY_USD        object\n",
       "HKD_USD        object\n",
       "IDR_USD        object\n",
       "KRW_USD        object\n",
       "MXN_USD        object\n",
       "ZAR_USD        object\n",
       "SGD_USD        object\n",
       "DKK_USD        object\n",
       "JPY_USD        object\n",
       "MYR_USD        object\n",
       "NOK_USD        object\n",
       "SEK_USD        object\n",
       "LKR_USD        object\n",
       "CHF_USD        object\n",
       "TWD_USD        object\n",
       "THB_USD        object\n",
       "dtype: object"
      ]
     },
     "execution_count": 14,
     "metadata": {},
     "output_type": "execute_result"
    }
   ],
   "source": [
    "# We will check the data type of the columns in the dataset\n",
    "dataset.dtypes"
   ]
  },
  {
   "cell_type": "code",
   "execution_count": 15,
   "id": "71415051",
   "metadata": {},
   "outputs": [],
   "source": [
    "# The numeric columns are made as object\n",
    "# We have to change the data types of all the columns to numeric except the first\n",
    "for col in dataset.columns[1:]:\n",
    "    dataset[col] = pd.to_numeric(dataset[col], errors='coerce')"
   ]
  },
  {
   "cell_type": "code",
   "execution_count": 16,
   "id": "f642b3aa",
   "metadata": {},
   "outputs": [
    {
     "data": {
      "text/plain": [
       "Time Series     object\n",
       "AUD_USD        float64\n",
       "EUR_USD        float64\n",
       "NZD_USD        float64\n",
       "GBP_USD        float64\n",
       "BRL_USD        float64\n",
       "CND_USD        float64\n",
       "CNY_USD        float64\n",
       "HKD_USD        float64\n",
       "IDR_USD        float64\n",
       "KRW_USD        float64\n",
       "MXN_USD        float64\n",
       "ZAR_USD        float64\n",
       "SGD_USD        float64\n",
       "DKK_USD        float64\n",
       "JPY_USD        float64\n",
       "MYR_USD        float64\n",
       "NOK_USD        float64\n",
       "SEK_USD        float64\n",
       "LKR_USD        float64\n",
       "CHF_USD        float64\n",
       "TWD_USD        float64\n",
       "THB_USD        float64\n",
       "dtype: object"
      ]
     },
     "execution_count": 16,
     "metadata": {},
     "output_type": "execute_result"
    }
   ],
   "source": [
    "# Lets check the data types of the dataset after modification\n",
    "dataset.dtypes"
   ]
  },
  {
   "cell_type": "code",
   "execution_count": 17,
   "id": "fac341d2",
   "metadata": {},
   "outputs": [],
   "source": [
    "# The Time series is of the data type date\n",
    "# To plot graphs effectively we will get the month and year from the time series into new columns\n",
    "dataset['Time Series'] = pd.to_datetime(dataset['Time Series'])\n",
    "dataset['month'] = dataset['Time Series'].dt.month\n",
    "dataset['year'] = dataset['Time Series'].dt.year\n",
    "dataset['month_year'] = dataset['Time Series'].dt.to_period('M')"
   ]
  },
  {
   "cell_type": "code",
   "execution_count": 18,
   "id": "ef424c7b",
   "metadata": {},
   "outputs": [
    {
     "data": {
      "text/plain": [
       "Index(['Time Series', 'AUD_USD', 'EUR_USD', 'NZD_USD', 'GBP_USD', 'BRL_USD',\n",
       "       'CND_USD', 'CNY_USD', 'HKD_USD', 'IDR_USD', 'KRW_USD', 'MXN_USD',\n",
       "       'ZAR_USD', 'SGD_USD', 'DKK_USD', 'JPY_USD', 'MYR_USD', 'NOK_USD',\n",
       "       'SEK_USD', 'LKR_USD', 'CHF_USD', 'TWD_USD', 'THB_USD', 'month', 'year',\n",
       "       'month_year'],\n",
       "      dtype='object')"
      ]
     },
     "execution_count": 18,
     "metadata": {},
     "output_type": "execute_result"
    }
   ],
   "source": [
    "# Lets check the added columns\n",
    "dataset.columns"
   ]
  },
  {
   "cell_type": "markdown",
   "id": "5870b6f8",
   "metadata": {},
   "source": [
    "Using AUD currency"
   ]
  },
  {
   "cell_type": "code",
   "execution_count": 19,
   "id": "a66175d8",
   "metadata": {},
   "outputs": [
    {
     "data": {
      "text/plain": [
       "5015"
      ]
     },
     "execution_count": 19,
     "metadata": {},
     "output_type": "execute_result"
    }
   ],
   "source": [
    "dataset['AUD_USD'].count()"
   ]
  },
  {
   "cell_type": "code",
   "execution_count": 20,
   "id": "0fff4648",
   "metadata": {},
   "outputs": [],
   "source": [
    "dataset_groupby_aud = dataset.groupby('month_year').AUD_USD.mean().reset_index()"
   ]
  },
  {
   "cell_type": "code",
   "execution_count": 21,
   "id": "7ef42890",
   "metadata": {},
   "outputs": [
    {
     "data": {
      "image/png": "[encoded data removed]",
      "text/plain": [
       "<Figure size 576x288 with 1 Axes>"
      ]
     },
     "metadata": {
      "needs_background": "light"
     },
     "output_type": "display_data"
    }
   ],
   "source": [
    "# Plot the AUD currency based the month_year\n",
    "from matplotlib import pyplot as plt\n",
    "x = dataset_groupby_aud['month_year'].astype(str)\n",
    "y = dataset_groupby_aud['AUD_USD']\n",
    "plt.figure(figsize=(8,4))\n",
    "plt.plot(x, y)\n",
    "plt.title(\"Exchange Rate: AUD/USD\")\n",
    "plt.xlabel(\"Month\")\n",
    "plt.ylabel(\"Exchange Rate\")\n",
    "plt.show()"
   ]
  },
  {
   "cell_type": "code",
   "execution_count": 22,
   "id": "cb7bd115",
   "metadata": {},
   "outputs": [
    {
     "data": {
      "text/html": [
       "<div>\n",
       "<style scoped>\n",
       "    .dataframe tbody tr th:only-of-type {\n",
       "        vertical-align: middle;\n",
       "    }\n",
       "\n",
       "    .dataframe tbody tr th {\n",
       "        vertical-align: top;\n",
       "    }\n",
       "\n",
       "    .dataframe thead th {\n",
       "        text-align: right;\n",
       "    }\n",
       "</style>\n",
       "<table border=\"1\" class=\"dataframe\">\n",
       "  <thead>\n",
       "    <tr style=\"text-align: right;\">\n",
       "      <th></th>\n",
       "      <th>month_year</th>\n",
       "      <th>AUD_mean</th>\n",
       "      <th>EUR_mean</th>\n",
       "      <th>NZD_mean</th>\n",
       "      <th>SGD_mean</th>\n",
       "      <th>GBP_mean</th>\n",
       "      <th>JPY_mean</th>\n",
       "      <th>CHF_mean</th>\n",
       "      <th>USD_mean</th>\n",
       "    </tr>\n",
       "  </thead>\n",
       "  <tbody>\n",
       "    <tr>\n",
       "      <th>0</th>\n",
       "      <td>2000-01</td>\n",
       "      <td>1.524645</td>\n",
       "      <td>0.987345</td>\n",
       "      <td>1.951050</td>\n",
       "      <td>1.675665</td>\n",
       "      <td>0.609620</td>\n",
       "      <td>105.296000</td>\n",
       "      <td>1.590260</td>\n",
       "      <td>1</td>\n",
       "    </tr>\n",
       "    <tr>\n",
       "      <th>1</th>\n",
       "      <td>2000-02</td>\n",
       "      <td>1.593205</td>\n",
       "      <td>1.017025</td>\n",
       "      <td>2.039655</td>\n",
       "      <td>1.702790</td>\n",
       "      <td>0.625020</td>\n",
       "      <td>109.388500</td>\n",
       "      <td>1.634770</td>\n",
       "      <td>1</td>\n",
       "    </tr>\n",
       "    <tr>\n",
       "      <th>2</th>\n",
       "      <td>2000-03</td>\n",
       "      <td>1.641087</td>\n",
       "      <td>1.037013</td>\n",
       "      <td>2.040430</td>\n",
       "      <td>1.715343</td>\n",
       "      <td>0.632948</td>\n",
       "      <td>106.307391</td>\n",
       "      <td>1.663617</td>\n",
       "      <td>1</td>\n",
       "    </tr>\n",
       "    <tr>\n",
       "      <th>3</th>\n",
       "      <td>2000-04</td>\n",
       "      <td>1.677935</td>\n",
       "      <td>1.058630</td>\n",
       "      <td>2.016400</td>\n",
       "      <td>1.709590</td>\n",
       "      <td>0.631990</td>\n",
       "      <td>105.627000</td>\n",
       "      <td>1.665650</td>\n",
       "      <td>1</td>\n",
       "    </tr>\n",
       "    <tr>\n",
       "      <th>4</th>\n",
       "      <td>2000-05</td>\n",
       "      <td>1.729309</td>\n",
       "      <td>1.104023</td>\n",
       "      <td>2.125468</td>\n",
       "      <td>1.728573</td>\n",
       "      <td>0.662927</td>\n",
       "      <td>108.320455</td>\n",
       "      <td>1.719009</td>\n",
       "      <td>1</td>\n",
       "    </tr>\n",
       "  </tbody>\n",
       "</table>\n",
       "</div>"
      ],
      "text/plain": [
       "  month_year  AUD_mean  EUR_mean  NZD_mean  SGD_mean  GBP_mean    JPY_mean  \\\n",
       "0    2000-01  1.524645  0.987345  1.951050  1.675665  0.609620  105.296000   \n",
       "1    2000-02  1.593205  1.017025  2.039655  1.702790  0.625020  109.388500   \n",
       "2    2000-03  1.641087  1.037013  2.040430  1.715343  0.632948  106.307391   \n",
       "3    2000-04  1.677935  1.058630  2.016400  1.709590  0.631990  105.627000   \n",
       "4    2000-05  1.729309  1.104023  2.125468  1.728573  0.662927  108.320455   \n",
       "\n",
       "   CHF_mean  USD_mean  \n",
       "0  1.590260         1  \n",
       "1  1.634770         1  \n",
       "2  1.663617         1  \n",
       "3  1.665650         1  \n",
       "4  1.719009         1  "
      ]
     },
     "execution_count": 22,
     "metadata": {},
     "output_type": "execute_result"
    }
   ],
   "source": [
    "# Lets check with other currencies also\n",
    "groupby_all = dataset.groupby('month_year').apply(lambda x: pd.Series\n",
    "           ({\n",
    "              'AUD_mean': x['AUD_USD'].mean(),\n",
    "              'EUR_mean': x['EUR_USD'].mean(),\n",
    "              'NZD_mean': x['NZD_USD'].mean(),\n",
    "              'SGD_mean': x['SGD_USD'].mean(),\n",
    "              'GBP_mean': x['GBP_USD'].mean(),\n",
    "              'JPY_mean': x['JPY_USD'].mean(),\n",
    "              'CHF_mean': x['CHF_USD'].mean()\n",
    "                                             })).reset_index()\n",
    "groupby_all = pd.DataFrame(groupby_all)\n",
    "groupby_all['USD_mean'] = [1 for i in range(240)]\n",
    "groupby_all.head()"
   ]
  },
  {
   "cell_type": "code",
   "execution_count": 23,
   "id": "9a753d52",
   "metadata": {
    "scrolled": true
   },
   "outputs": [
    {
     "data": {
      "image/png": "[encoded data removed]",
      "text/plain": [
       "<Figure size 1440x720 with 1 Axes>"
      ]
     },
     "metadata": {
      "needs_background": "light"
     },
     "output_type": "display_data"
    }
   ],
   "source": [
    "# Plot all the currency based on month_year\n",
    "y_all = groupby_all[['AUD_mean', 'EUR_mean', 'NZD_mean', 'SGD_mean', 'GBP_mean', 'CHF_mean','USD_mean']]\n",
    "labels = [\"AUD_mean\", \"EUR_mean\", \"NZD_mean\", \"SGD_mean\", \"GBP_mean\", \"CHF_mean\", \"USD_mean\"]\n",
    "x_ticks = list(range(1, 240, 12))\n",
    "x_ticklabels = [x for x in range(2000, 2020)]\n",
    "plt.figure(figsize=(20,10))\n",
    "ax = plt.subplot()\n",
    "plt.plot(x, y_all.to_numpy())\n",
    "ax.set_xticks(x_ticks)\n",
    "ax.set_xticklabels(x_ticklabels)\n",
    "plt.legend(labels)\n",
    "plt.title(\"Exchange Rate: Top Countries/USD\")\n",
    "plt.xlabel(\"Year\")\n",
    "plt.ylabel(\"Exchange Rate\")\n",
    "plt.show()"
   ]
  },
  {
   "cell_type": "markdown",
   "id": "07d5aad0",
   "metadata": {},
   "source": [
    "# Linear Regression"
   ]
  },
  {
   "cell_type": "code",
   "execution_count": 93,
   "id": "b02dad5b",
   "metadata": {},
   "outputs": [],
   "source": [
    "# Importing interest carry trade dataset for aud\n",
    "ir_dataset = pd.read_csv(\"interest_carry_trade.csv\")"
   ]
  },
  {
   "cell_type": "code",
   "execution_count": 94,
   "id": "072c8f05",
   "metadata": {},
   "outputs": [
    {
     "data": {
      "text/html": [
       "<div>\n",
       "<style scoped>\n",
       "    .dataframe tbody tr th:only-of-type {\n",
       "        vertical-align: middle;\n",
       "    }\n",
       "\n",
       "    .dataframe tbody tr th {\n",
       "        vertical-align: top;\n",
       "    }\n",
       "\n",
       "    .dataframe thead th {\n",
       "        text-align: right;\n",
       "    }\n",
       "</style>\n",
       "<table border=\"1\" class=\"dataframe\">\n",
       "  <thead>\n",
       "    <tr style=\"text-align: right;\">\n",
       "      <th></th>\n",
       "      <th>Date</th>\n",
       "      <th>Symbol</th>\n",
       "      <th>Long Carry</th>\n",
       "      <th>Short Carry</th>\n",
       "    </tr>\n",
       "  </thead>\n",
       "  <tbody>\n",
       "    <tr>\n",
       "      <th>0</th>\n",
       "      <td>01-12-2019</td>\n",
       "      <td>AUDUSD</td>\n",
       "      <td>-2.12%</td>\n",
       "      <td>-0.08%</td>\n",
       "    </tr>\n",
       "    <tr>\n",
       "      <th>1</th>\n",
       "      <td>01-11-2019</td>\n",
       "      <td>AUDUSD</td>\n",
       "      <td>-2.11%</td>\n",
       "      <td>-0.10%</td>\n",
       "    </tr>\n",
       "    <tr>\n",
       "      <th>2</th>\n",
       "      <td>01-10-2019</td>\n",
       "      <td>AUDUSD</td>\n",
       "      <td>-2.15%</td>\n",
       "      <td>-0.10%</td>\n",
       "    </tr>\n",
       "    <tr>\n",
       "      <th>3</th>\n",
       "      <td>01-09-2019</td>\n",
       "      <td>AUDUSD</td>\n",
       "      <td>-2.23%</td>\n",
       "      <td>-0.12%</td>\n",
       "    </tr>\n",
       "    <tr>\n",
       "      <th>4</th>\n",
       "      <td>01-08-2019</td>\n",
       "      <td>AUDUSD</td>\n",
       "      <td>-2.23%</td>\n",
       "      <td>-0.12%</td>\n",
       "    </tr>\n",
       "  </tbody>\n",
       "</table>\n",
       "</div>"
      ],
      "text/plain": [
       "         Date  Symbol Long Carry Short Carry\n",
       "0  01-12-2019  AUDUSD     -2.12%      -0.08%\n",
       "1  01-11-2019  AUDUSD     -2.11%      -0.10%\n",
       "2  01-10-2019  AUDUSD     -2.15%      -0.10%\n",
       "3  01-09-2019  AUDUSD     -2.23%      -0.12%\n",
       "4  01-08-2019  AUDUSD     -2.23%      -0.12%"
      ]
     },
     "execution_count": 94,
     "metadata": {},
     "output_type": "execute_result"
    }
   ],
   "source": [
    "ir_dataset.head()"
   ]
  },
  {
   "cell_type": "code",
   "execution_count": 95,
   "id": "28b050ff",
   "metadata": {},
   "outputs": [
    {
     "data": {
      "text/plain": [
       "Date           object\n",
       "Symbol         object\n",
       "Long Carry     object\n",
       "Short Carry    object\n",
       "dtype: object"
      ]
     },
     "execution_count": 95,
     "metadata": {},
     "output_type": "execute_result"
    }
   ],
   "source": [
    "ir_dataset.dtypes"
   ]
  },
  {
   "cell_type": "code",
   "execution_count": 96,
   "id": "edb6bf69",
   "metadata": {},
   "outputs": [],
   "source": [
    "# Analysing and Formating data\n",
    "x_ir = ir_dataset.iloc[:, 2].astype(str)\n",
    "x_ir = x_ir.replace({'%':''}, regex = True)\n",
    "x_ir = x_ir.astype(float)\n",
    "x_ir = np.array(x_ir).reshape(-1,1)\n",
    "\n",
    "aud_usd_fx = dataset_groupby_aud[(dataset_groupby_aud['month_year'] >= '2017-01') & (dataset_groupby_aud['month_year'] <='2019-12')].reset_index(drop=True)\n",
    "aud_usd = aud_usd_fx.iloc[:, 1]\n",
    "y_fx = aud_usd"
   ]
  },
  {
   "cell_type": "code",
   "execution_count": 97,
   "id": "31e78c04",
   "metadata": {},
   "outputs": [
    {
     "data": {
      "text/plain": [
       "(36, 1)"
      ]
     },
     "execution_count": 97,
     "metadata": {},
     "output_type": "execute_result"
    }
   ],
   "source": [
    "x_ir.shape"
   ]
  },
  {
   "cell_type": "code",
   "execution_count": 98,
   "id": "4c1e25c6",
   "metadata": {},
   "outputs": [
    {
     "data": {
      "text/plain": [
       "(36,)"
      ]
     },
     "execution_count": 98,
     "metadata": {},
     "output_type": "execute_result"
    }
   ],
   "source": [
    "y_fx.shape"
   ]
  },
  {
   "cell_type": "code",
   "execution_count": 99,
   "id": "21023ea7",
   "metadata": {},
   "outputs": [],
   "source": [
    "# Importing modules from sklearn\n",
    "from sklearn.model_selection import train_test_split\n",
    "from sklearn.linear_model import LinearRegression"
   ]
  },
  {
   "cell_type": "code",
   "execution_count": 100,
   "id": "12d40b8c",
   "metadata": {},
   "outputs": [],
   "source": [
    "# Splitting dataset\n",
    "X_train, X_test, y_train, y_test = train_test_split(x_ir, y_fx, train_size=0.8, test_size=0.2, random_state=1)"
   ]
  },
  {
   "cell_type": "code",
   "execution_count": 101,
   "id": "48583aeb",
   "metadata": {},
   "outputs": [
    {
     "name": "stdout",
     "output_type": "stream",
     "text": [
      "0.7259371809548871\n",
      "0.6010237487716458\n"
     ]
    }
   ],
   "source": [
    "# Apply linear regression model\n",
    "model = LinearRegression()\n",
    "model.fit(X_train, y_train)\n",
    "y_predict = model.predict(X_test)\n",
    "print(model.score(X_train, y_train))\n",
    "print(model.score(X_test, y_test))"
   ]
  },
  {
   "cell_type": "code",
   "execution_count": 102,
   "id": "988389b3",
   "metadata": {},
   "outputs": [
    {
     "name": "stdout",
     "output_type": "stream",
     "text": [
      "0.7360822823031163\n"
     ]
    }
   ],
   "source": [
    "model = LinearRegression()\n",
    "model.fit(x_ir, y_fx)\n",
    "y_fx_predict = model.predict(x_ir)\n",
    "print(model.score(x_ir, y_fx))"
   ]
  },
  {
   "cell_type": "code",
   "execution_count": 103,
   "id": "3ecba38c",
   "metadata": {},
   "outputs": [
    {
     "data": {
      "image/png": "[encoded data removed]",
      "text/plain": [
       "<Figure size 864x432 with 1 Axes>"
      ]
     },
     "metadata": {
      "needs_background": "light"
     },
     "output_type": "display_data"
    }
   ],
   "source": [
    "# Best fit line\n",
    "month_year = aud_usd_fx['month_year']\n",
    "month_year = month_year.astype(str)\n",
    "plt.figure(figsize=(12,6))\n",
    "plt.scatter(month_year, y_fx, alpha=0.4)\n",
    "plt.plot(month_year, y_fx_predict)\n",
    "plt.title(\"Linear Regression: AUD/USD Exchange Rate (1 var: Interest Rate)\")\n",
    "plt.xlabel(\"Month-Year\")\n",
    "plt.ylabel(\"Exchange Rate\")\n",
    "plt.xticks(fontsize=4)\n",
    "plt.show()"
   ]
  },
  {
   "cell_type": "markdown",
   "id": "0c284cf0",
   "metadata": {},
   "source": [
    "# Multiple linear regression"
   ]
  }
 ],
 "metadata": {
  "kernelspec": {
   "display_name": "Python 3 (ipykernel)",
   "language": "python",
   "name": "python3"
  },
  "language_info": {
   "codemirror_mode": {
    "name": "ipython",
    "version": 3
   },
   "file_extension": ".py",
   "mimetype": "text/x-python",
   "name": "python",
   "nbconvert_exporter": "python",
   "pygments_lexer": "ipython3",
   "version": "3.9.12"
  }
 },
 "nbformat": 4,
 "nbformat_minor": 5
}
